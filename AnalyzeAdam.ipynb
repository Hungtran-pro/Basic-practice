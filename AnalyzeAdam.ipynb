{
  "nbformat": 4,
  "nbformat_minor": 0,
  "metadata": {
    "colab": {
      "name": "AnalyzeAdam.ipynb",
      "provenance": [],
      "collapsed_sections": [],
      "mount_file_id": "10JGntBvfc1EKmzKYG7EaH2q_RkXCoAhW",
      "authorship_tag": "ABX9TyNNXvFeQUKP1jMdD6JRphDU",
      "include_colab_link": true
    },
    "kernelspec": {
      "name": "python3",
      "display_name": "Python 3"
    },
    "language_info": {
      "name": "python"
    }
  },
  "cells": [
    {
      "cell_type": "markdown",
      "metadata": {
        "id": "view-in-github",
        "colab_type": "text"
      },
      "source": [
        "<a href=\"https://colab.research.google.com/github/Hungtran-pro/Basic-practice/blob/main/AnalyzeAdam.ipynb\" target=\"_parent\"><img src=\"https://colab.research.google.com/assets/colab-badge.svg\" alt=\"Open In Colab\"/></a>"
      ]
    },
    {
      "cell_type": "code",
      "source": [
        "'''\n",
        "  Import required libraries\n",
        "    \n",
        "    numpy: for scientific computing.\n",
        "    tensorflow: for collecting MNIST data.\n",
        "    math: for mathematic tasks\n",
        "    time: to calculate and estimate the total amount of running time.\n",
        "    os: to access folder's path, file's path\n",
        "    matplotlib.pyplot: to describe and draw histograms.\n",
        "'''\n",
        "\n",
        "import numpy as np\n",
        "import tensorflow as tf\n",
        "import math\n",
        "import time\n",
        "import os\n",
        "import matplotlib.pyplot as plt"
      ],
      "metadata": {
        "id": "PJUVwCY31pvO"
      },
      "execution_count": null,
      "outputs": []
    },
    {
      "cell_type": "code",
      "source": [
        "'''\n",
        "  Check wheather the path exists or not\n",
        "'''\n",
        "\n",
        "!ls \"/content/drive/MyDrive/AI projects/Hand_written/mnist.npz\"\n",
        "PATH = \"/content/drive/MyDrive/AI projects/Hand_written/mnist.npz\""
      ],
      "metadata": {
        "colab": {
          "base_uri": "https://localhost:8080/"
        },
        "id": "PqvdE2_l1vZE",
        "outputId": "d2dfd71c-50b8-4184-bd71-84009491a398"
      },
      "execution_count": null,
      "outputs": [
        {
          "output_type": "stream",
          "name": "stdout",
          "text": [
            "'/content/drive/MyDrive/AI projects/Hand_written/mnist.npz'\n"
          ]
        }
      ]
    },
    {
      "cell_type": "code",
      "source": [
        "'''\n",
        "  Get the trainining dataset and test dataset from tensorflow library.\n",
        "    The dataset includes 70,000 figures for 10 classes (0 - 9), is divided into training dataset and test dataset, with 60k images and 10k images respectively.\n",
        "\n",
        "  Variables:\n",
        "    train_x: contains images in the training dataset.\n",
        "    train_y: contains labels being respective to each image in the training dataset.\n",
        "    test_x: contains images in the test dataset.\n",
        "    test_y: contains labels being respective to each image in the test dataset.\n",
        "'''\n",
        "\n",
        "(train_x, train_y), (test_x, test_y) = tf.keras.datasets.mnist.load_data(PATH)"
      ],
      "metadata": {
        "id": "d_vl8etC2D9a"
      },
      "execution_count": null,
      "outputs": []
    },
    {
      "cell_type": "code",
      "source": [
        "'''\n",
        "  Check the shape of each data and label variables to make sure they're in the right way.\n",
        "'''\n",
        "\n",
        "print(f\"Shape of training X dataset: {train_x.shape}\")\n",
        "print(f\"Shape of training Y dataset: {train_y.shape}\")\n",
        "print(f\"Shape of testing X dataset: {test_x.shape}\")\n",
        "print(f\"Shape of testing Y dataset: {test_y.shape}\")"
      ],
      "metadata": {
        "colab": {
          "base_uri": "https://localhost:8080/"
        },
        "id": "LxkBwCRYf-tG",
        "outputId": "faebc636-f67b-49a5-d7f2-f8b882a56f12"
      },
      "execution_count": null,
      "outputs": [
        {
          "output_type": "stream",
          "name": "stdout",
          "text": [
            "Shape of training X dataset: (60000, 28, 28)\n",
            "Shape of training Y dataset: (60000,)\n",
            "Shape of testing X dataset: (10000, 28, 28)\n",
            "Shape of testing Y dataset: (10000,)\n"
          ]
        }
      ]
    },
    {
      "cell_type": "code",
      "source": [
        "'''\n",
        "  To input the data into out neural network, we need to preprocess the data shape.\n",
        "\n",
        "  Expected input shape: (n,m)\n",
        "    - n: a number of features in an image.\n",
        "    - m: a number of images\n",
        "  Expected output shape: (1,m)\n",
        "    - 1: a number represents the label that the image belongs to.\n",
        "    - m: a number of images.\n",
        "'''\n",
        "\n",
        "# Flattern the image data (m, height, weight) -> (m, height x weight)\n",
        "train_x_flatten = train_x.reshape(train_x.shape[0], -1)\n",
        "test_x_flatten = test_x.reshape(test_x.shape[0], -1)\n",
        "\n",
        "# Reshape the label data () -> (1,m)\n",
        "train_y = train_y.reshape(train_y.shape[0], 1)\n",
        "test_y = test_y.reshape(test_y.shape[0], 1)\n",
        "\n",
        "#Normalize input data in range [0,1]\n",
        "train_x = train_x_flatten / 255.0\n",
        "test_x = test_x_flatten / 255.0\n",
        "\n",
        "# Transpose the data matrix to get a right shape input.\n",
        "train_x = np.array(train_x).T\n",
        "train_y = np.array(train_y).T\n",
        "test_x = np.array(test_x).T\n",
        "test_y = np.array(test_y).T"
      ],
      "metadata": {
        "id": "5xIMl4D06h_y"
      },
      "execution_count": null,
      "outputs": []
    },
    {
      "cell_type": "code",
      "source": [
        "'''\n",
        "  Check the image, label data shape again\n",
        "'''\n",
        "\n",
        "print(train_x.shape, train_y.shape)\n",
        "print(test_x.shape, test_y.shape)"
      ],
      "metadata": {
        "colab": {
          "base_uri": "https://localhost:8080/"
        },
        "id": "tDwYbSLQ2dZt",
        "outputId": "3899bacf-9a83-4b63-f964-308e53e53183"
      },
      "execution_count": null,
      "outputs": [
        {
          "output_type": "stream",
          "name": "stdout",
          "text": [
            "(784, 60000) (1, 60000)\n",
            "(784, 10000) (1, 10000)\n"
          ]
        }
      ]
    },
    {
      "cell_type": "code",
      "source": [
        "def initialize_parameters(layer_dims):\n",
        "  '''\n",
        "  Intialize weights and bias for the Neural Network\n",
        "  \n",
        "  Input:\n",
        "    layer_dims: contains the dimensions of each layer in neural network\n",
        "    \n",
        "  Variables:\n",
        "\n",
        "    parameter[wi] = (layer_dims[i], layer_dims[i-1])\n",
        "      : contains a \"weight\" matrix of i_th layer\n",
        "    parameter[bi] = (layer_dims[i], layer_dims[i-1])\n",
        "      : contains a \"bias\" vector of u_th layer\n",
        "\n",
        "  Output:\n",
        "    parameters: a python dict contains all parameter[w] and parameter[b]\n",
        "  '''\n",
        "\n",
        "  parameters = {}\n",
        "  for i in range(1, len(layer_dims)):\n",
        "    parameters[\"W\" + str(i)] = np.random.randn(layer_dims[i], layer_dims[i-1]) * 0.01\n",
        "    parameters['b' + str(i)] = np.zeros((layer_dims[i], 1))\n",
        "  return parameters"
      ],
      "metadata": {
        "id": "IvTQD5WB2oLj"
      },
      "execution_count": null,
      "outputs": []
    },
    {
      "cell_type": "code",
      "source": [
        "def initialize_adam(parameters) :\n",
        "  '''\n",
        "\n",
        "  Intialize v and s\n",
        "\n",
        "  Input:\n",
        "    parameters: a python dict contains all parameter[w] and parameter[b]\n",
        "\n",
        "  Variables:\n",
        "    \n",
        "    L: the number of layers\n",
        "    v: the refered variables in Momemtum algorithm (with the same dimension of weight matrix and bias vector)\n",
        "    s: the refered variables in RSMP algorithm (with the same dimension of weight matrix and bias vector)\n",
        "  \n",
        "  Output: v, s\n",
        "\n",
        "  '''\n",
        "  L = len(parameters) // 2\n",
        "  v = {}\n",
        "  s = {}\n",
        "\n",
        "  for l in range(L):\n",
        "    v[\"dW\" + str(l + 1)] = np.zeros_like(parameters[\"W\" + str(l + 1)])\n",
        "    v[\"db\" + str(l + 1)] = np.zeros_like(parameters[\"b\" + str(l + 1)])\n",
        "\n",
        "    s[\"dW\" + str(l+1)] = np.zeros_like(parameters[\"W\" + str(l + 1)])\n",
        "    s[\"db\" + str(l+1)] = np.zeros_like(parameters[\"b\" + str(l + 1)])\n",
        "  \n",
        "  return v, s"
      ],
      "metadata": {
        "id": "mFL4q8k3kAqN"
      },
      "execution_count": null,
      "outputs": []
    },
    {
      "cell_type": "code",
      "source": [
        "def random_mini_batches(X, Y, mini_batch_size = 10000, seed = 0):\n",
        "  '''\n",
        "  Creates a list of random minibatches from (X, Y)\n",
        "  \n",
        "  Input:\n",
        "    X -- input data\n",
        "    Y -- true \"label\" vector\n",
        "    mini_batch_size -- size of the mini-batches, integer\n",
        "    seed: using for random function in numpy (make a constant random call)\n",
        "\n",
        "  Variables:\n",
        "    permutation: a list of permutation number\n",
        "\n",
        "  Output:\n",
        "    mini_batches -- list of synchronous (mini_batch_X, mini_batch_Y)\n",
        "  '''\n",
        "  \n",
        "  np.random.seed(seed)\n",
        "  m = X.shape[1]\n",
        "  mini_batches = []\n",
        "      \n",
        "  # Shuffle (X, Y)\n",
        "  permutation = list(np.random.permutation(m))\n",
        "  shuffled_X = X[:, permutation]\n",
        "  shuffled_Y = Y[:, permutation]\n",
        "  \n",
        "  inc = mini_batch_size\n",
        "\n",
        "  num_complete_minibatches = math.floor(m / mini_batch_size)\n",
        "  for k in range(0, num_complete_minibatches):\n",
        "    mini_batch_X = shuffled_X[:, k * inc: (k+1) * inc]\n",
        "    mini_batch_Y = shuffled_Y[:, k * inc: (k+1) * inc]\n",
        "    mini_batch = (mini_batch_X, mini_batch_Y)\n",
        "    mini_batches.append(mini_batch)\n",
        "  \n",
        "  # In case the amount of data isn't dividable.\n",
        "  if m % mini_batch_size != 0:\n",
        "    mini_batch_X = shuffled_X[:, m-(m % mini_batch_size) : m]\n",
        "    mini_batch_Y = shuffled_Y[:, m-(m % mini_batch_size) : m]\n",
        "    mini_batch = (mini_batch_X, mini_batch_Y)\n",
        "    mini_batches.append(mini_batch)\n",
        "  \n",
        "  return mini_batches"
      ],
      "metadata": {
        "id": "0VILQkOSARt1"
      },
      "execution_count": null,
      "outputs": []
    },
    {
      "cell_type": "code",
      "source": [
        "def sigmoid(Z):\n",
        "  '''\n",
        "  Calculate sigmoid function\n",
        "  '''\n",
        "\n",
        "  A = 1 / (1 + np.exp(-Z))\n",
        "  return A, Z\n",
        "\n",
        "def relu(Z):\n",
        "  '''\n",
        "  Calculate relu function\n",
        "  '''\n",
        "  \n",
        "  A = np.maximum(0, Z)\n",
        "  return A, Z"
      ],
      "metadata": {
        "id": "HZrhEYUCuWfl"
      },
      "execution_count": null,
      "outputs": []
    },
    {
      "cell_type": "code",
      "source": [
        "def relu_backward(dA, cache):\n",
        "  '''\n",
        "  Implement relu backward\n",
        "  '''\n",
        "  \n",
        "  Z = cache\n",
        "  dZ = np.array(dA, copy=True)\n",
        "  dZ[Z <= 0] = 0\n",
        "  return dZ\n",
        "\n",
        "def sigmoid_backward(dA, cache):\n",
        "  '''\n",
        "  Implement sigmoid backward\n",
        "  '''\n",
        "\n",
        "  Z = cache\n",
        "  Z_sigmoid = 1 / (1 + np.exp(-Z))\n",
        "  dZ = dA * Z_sigmoid * (1 - Z_sigmoid)\n",
        "  return dZ"
      ],
      "metadata": {
        "id": "nJ1rrsOi5KhB"
      },
      "execution_count": null,
      "outputs": []
    },
    {
      "cell_type": "code",
      "source": [
        "def linear_forward(A, W, b):\n",
        "  '''\n",
        "  Implement linear parts of forward propagation.\n",
        "\n",
        "  Input:\n",
        "    A: activations from the previous layer (size of the previous layer, number of examples)\n",
        "    W: weights of the current layer (size of current layer, size of the previous layer)\n",
        "    b: bias of the current layer (size of current layer, 1)\n",
        "  \n",
        "  Output:\n",
        "    z: pre-activaion parameters (size of current layer, number of examples)\n",
        "    cache: stores \"A\", \"w\", \"b\" for the purpose of calculating back propagation steps.\n",
        "  '''\n",
        "\n",
        "  Z = np.dot(W, A) + b\n",
        "  cache = (A, W, b)\n",
        "\n",
        "  return Z, cache"
      ],
      "metadata": {
        "id": "Bhr5OjNXmqjY"
      },
      "execution_count": null,
      "outputs": []
    },
    {
      "cell_type": "code",
      "source": [
        "def linear_activation_forward(A_prev, W, b, activation):\n",
        "  '''\n",
        "  Implement forward propagation in a particular layer\n",
        "\n",
        "  Input:\n",
        "    A_prev: activations of the previous layer (size of the previous layer, number of examples)\n",
        "    w: weights of the current layer (size of current layer, size of the previous layer)\n",
        "    b: bias of the current layer (size of the current layer, 1)\n",
        "    activation: corresponding activation's name for a particular activation of each layer\n",
        "  \n",
        "  Output:\n",
        "    A: activation of the current layer (size of the current layer, number of examples)\n",
        "    cache: stores \"activaion cache\" and \"linear cache\"\n",
        "  '''\n",
        "\n",
        "  if activation == \"relu\":\n",
        "    Z , linear_cache = linear_forward(A_prev, W, b)\n",
        "    A, activation_cache = relu(Z)\n",
        "  elif activation == \"sigmoid\":\n",
        "    Z, linear_cache = linear_forward(A_prev, W, b)\n",
        "    A, activation_cache = sigmoid(Z)\n",
        "\n",
        "  cache = (linear_cache, activation_cache)\n",
        "  return A, cache"
      ],
      "metadata": {
        "id": "4cyLPakMn9H5"
      },
      "execution_count": null,
      "outputs": []
    },
    {
      "cell_type": "code",
      "source": [
        "def L_model_forward(X, parameters):\n",
        "  '''\n",
        "  Implement forward propagation\n",
        "  \n",
        "  Input:\n",
        "    X: input of neural network.\n",
        "    parameters: a dict contains weight, bias parameters\n",
        "\n",
        "  Output:\n",
        "    AL: (Y_hat) the prediction of neural network - list.\n",
        "    caches: contains cache at each specific layers (back propagation calculation purpose)\n",
        "  '''\n",
        "\n",
        "  caches = []\n",
        "  A = X\n",
        "  L = len(parameters) // 2\n",
        "\n",
        "  for l in range(1, L):\n",
        "    A_prev = A\n",
        "    A, cache = linear_activation_forward(A_prev, parameters[\"W\" + str(l)], parameters[\"b\" + str(l)], \"relu\")\n",
        "    caches.append(cache)\n",
        "\n",
        "  AL, cache = linear_activation_forward(A, parameters[\"W\" + str(L)], parameters['b' + str(L)], \"sigmoid\")\n",
        "  caches.append(cache)\n",
        "  return AL, caches  "
      ],
      "metadata": {
        "id": "8PFM7dsU3syc"
      },
      "execution_count": null,
      "outputs": []
    },
    {
      "cell_type": "code",
      "source": [
        "def compute_cost(AL, Y):\n",
        "  '''\n",
        "  Compute the cost function\n",
        "  \n",
        "  Input:\n",
        "    AL: the probability corresponding to the label predictions\n",
        "    Y: true label\n",
        "  \n",
        "  Output:\n",
        "    cost: using category entropy function to caculate the cost value\n",
        "  '''\n",
        "\n",
        "  assert(AL.shape == Y.shape)\n",
        "  m = Y.shape[1]\n",
        "  cost = - 1 / m * np.sum(np.sum(np.log(AL) * Y + np.log(1 - AL) * (1-Y), axis = 1), axis = 0)\n",
        "  cost = np.squeeze(cost)\n",
        "  return cost"
      ],
      "metadata": {
        "id": "4THaZyFNpkq5"
      },
      "execution_count": null,
      "outputs": []
    },
    {
      "cell_type": "code",
      "source": [
        "def linear_backward(dZ, cache):\n",
        "  '''\n",
        "  Implement the linear portion of back propagation\n",
        "    \n",
        "  Input:\n",
        "    dZ: Gradient of the cost\n",
        "    cache: contains (A_prev, W, b)\n",
        "    A_prev: activation value of the previous layer\n",
        "    W: weights matrix of the current layer\n",
        "    b: bias vector of the current layer\n",
        "  \n",
        "  Output:\n",
        "    dW, db, dA_prev\n",
        "    dA_prev: Gradient of the cost with respect to the activation\n",
        "    dW: Gradient of the cost with respect to the weights\n",
        "    db: Gradient of the cost with respect to the bias\n",
        "  '''\n",
        "\n",
        "  A_prev, W, b = cache\n",
        "  m = A_prev.shape[1] # number of examples\n",
        "\n",
        "  dW = 1 / m * (np.dot(dZ, A_prev.T))\n",
        "  db = 1 / m * np.sum(dZ, axis = 1, keepdims = True)\n",
        "  dA_prev = np.dot(W.T, dZ)\n",
        "  return dA_prev, dW, db"
      ],
      "metadata": {
        "id": "Gin2KhJfwgYX"
      },
      "execution_count": null,
      "outputs": []
    },
    {
      "cell_type": "code",
      "source": [
        "def linear_activation_backward(dA, cache, activation):\n",
        "  '''\n",
        "  Implement the backward propagation\n",
        "  \n",
        "  Input:\n",
        "    dA: Gradient of the cost with respect to the activation\n",
        "    cache: contains (linear_cache, activation_cache)\n",
        "    activation: contains \"relu\" or \"sigmoid\", the activation's name of the layer\n",
        "  \n",
        "  Output:\n",
        "    dA_prev: Gradient of the cost with respect to the activation\n",
        "    dW: Gradient of the cost with respect to the weights\n",
        "    db: Gradient of the cost with respect to the bias\n",
        "  '''\n",
        "  \n",
        "  linear_cache, activation_cache = cache\n",
        "\n",
        "  if activation == 'relu':\n",
        "\n",
        "    dZ = relu_backward(dA, activation_cache)\n",
        "    dA_prev, dW, db = linear_backward(dZ, linear_cache)\n",
        "\n",
        "  elif activation == 'sigmoid':\n",
        "    dZ = sigmoid_backward(dA, activation_cache)\n",
        "    dA_prev, dW, db = linear_backward(dZ, linear_cache)\n",
        "\n",
        "  return dA_prev, dW, db"
      ],
      "metadata": {
        "id": "Qcv7lGXV3-Pr"
      },
      "execution_count": null,
      "outputs": []
    },
    {
      "cell_type": "code",
      "source": [
        "def L_model_backward(AL, Y, caches):\n",
        "  '''\n",
        "  Implement the backward propagation\n",
        "  \n",
        "  Input:\n",
        "    AL: the probability, output of forward propagation\n",
        "    Y: true \"label\"\n",
        "    caches: contains every cache of each layer\n",
        "  \n",
        "  Output:\n",
        "    grads: Gradient Descent for each weight and bias\n",
        "  '''\n",
        "\n",
        "  grads = {}\n",
        "  L = len(caches)\n",
        "  m = AL.shape[1]\n",
        "\n",
        "  #Intialize dAl (gradient descent of the last layer)\n",
        "  dAL = - (np.divide(Y , AL) - np.divide(1 - Y, 1 - AL))\n",
        "  cur_cache = caches[-1]\n",
        "  dA_prev, dW, db = linear_activation_backward(dAL, cur_cache ,'sigmoid')\n",
        "  grads[\"dA\" + str(L-1)] = dA_prev\n",
        "  grads[\"dW\" + str(L)] = dW\n",
        "  grads[\"db\" + str(L)]= db\n",
        "\n",
        "  for l in reversed(range(L-1)):\n",
        "    cur_cache = caches[l]\n",
        "    dA_prev, dW, db = linear_activation_backward(dA_prev, cur_cache, 'relu')\n",
        "    grads[\"dA\" + str(l)] = dA_prev\n",
        "    grads[\"dW\" + str(l+1)] = dW\n",
        "    grads[\"db\" + str(l+1)]= db\n",
        "    \n",
        "  return grads"
      ],
      "metadata": {
        "id": "73o_LrLOyGFR"
      },
      "execution_count": null,
      "outputs": []
    },
    {
      "cell_type": "code",
      "source": [
        "def update_parameters_with_gd(params, grads, learning_rate):\n",
        "  '''\n",
        "  Update parameters using gradient descent\n",
        "\n",
        "  Input:\n",
        "    params: contains params\n",
        "    grads: contains gradient descent of weight and bias\n",
        "    learning_rate\n",
        "  \n",
        "  Output:\n",
        "    parameters: new updated parameters\n",
        "  '''\n",
        "\n",
        "  parameters = params.copy()\n",
        "  L = len(parameters) // 2\n",
        "  for l in range(L):\n",
        "    parameters[\"W\" + str(l+1)] = parameters[\"W\" + str(l+1)] - learning_rate * grads[\"dW\" + str(l+1)]\n",
        "    parameters[\"b\" + str(l+1)] = parameters[\"b\" + str(l+1)] - learning_rate * grads[\"db\" + str(l+1)]\n",
        "\n",
        "  return parameters"
      ],
      "metadata": {
        "id": "WYXMGM2A1Zgi"
      },
      "execution_count": null,
      "outputs": []
    },
    {
      "cell_type": "code",
      "source": [
        "def update_parameters_with_adam(parameters, grads, v, s, t, learning_rate=0.01,beta1=0.9, beta2=0.999, epsilon=1e-8):\n",
        "  \"\"\"\n",
        "  Update parameters using Adam\n",
        "\n",
        "  Input:\n",
        "    parameters: a python dict containing the parameters:\n",
        "                    parameters['W' + str(l)] = Wl\n",
        "                    parameters['b' + str(l)] = bl\n",
        "    grads: a python dict containing the gradients for each parameters:\n",
        "                    grads['dW' + str(l)] = dWl\n",
        "                    grads['db' + str(l)] = dbl\n",
        "    v: Adam variable, moving average of the first gradient, python dict\n",
        "    s: Adam variable, moving average of the squared gradient, python dict\n",
        "    learning_rate\n",
        "    beta1: Exponential decay hyperparameter for the first moment estimates \n",
        "    beta2: Exponential decay hyperparameter for the second moment estimates \n",
        "    epsilon: hyperparameter preventing division by zero in Adam updates\n",
        "\n",
        "  Output:\n",
        "    parameters --a  python dict containing your updated parameters \n",
        "    v: Adam variable, moving average of the first gradient, python dict\n",
        "    s: Adam variable, moving average of the squared gradient, python dict\n",
        "  \"\"\"\n",
        "  \n",
        "  L = len(parameters) // 2\n",
        "  v_corrected = {}                         \n",
        "  s_corrected = {}\n",
        "  \n",
        "  for l in range(L):\n",
        "    v[\"dW\" + str(l + 1)] = beta1 * v[\"dW\" + str(l + 1)] + (1 - beta1) * grads['dW' + str(l + 1)]\n",
        "    v[\"db\" + str(l + 1)] = beta1 * v[\"db\" + str(l + 1)] + (1 - beta1) * grads['db' + str(l + 1)]\n",
        "    v_corrected[\"dW\" + str(l + 1)] = v[\"dW\" + str(l + 1)] / (1 - np.power(beta1, t))\n",
        "    v_corrected[\"db\" + str(l + 1)] = v[\"db\" + str(l + 1)] / (1 - np.power(beta1, t))\n",
        "    s[\"dW\" + str(l + 1)] = beta2 * s[\"dW\" + str(l + 1)] + (1 - beta2) * np.power(grads['dW' + str(l + 1)], 2)\n",
        "    s[\"db\" + str(l + 1)] = beta2 * s[\"db\" + str(l + 1)] + (1 - beta2) * np.power(grads['db' + str(l + 1)], 2)\n",
        "    s_corrected[\"dW\" + str(l + 1)] = s[\"dW\" + str(l + 1)] / (1 - np.power(beta2, t))\n",
        "    s_corrected[\"db\" + str(l + 1)] = s[\"db\" + str(l + 1)] / (1 - np.power(beta2, t))\n",
        "    parameters[\"W\" + str(l + 1)] = parameters[\"W\" + str(l + 1)] - learning_rate * v_corrected[\"dW\" + str(l + 1)] / np.sqrt(s_corrected[\"dW\" + str(l + 1)] + epsilon)\n",
        "    parameters[\"b\" + str(l + 1)] = parameters[\"b\" + str(l + 1)] - learning_rate * v_corrected[\"db\" + str(l + 1)] / np.sqrt(s_corrected[\"db\" + str(l + 1)] + epsilon)\n",
        "\n",
        "  return parameters, v, s"
      ],
      "metadata": {
        "id": "BKuNm1PIuvdb"
      },
      "execution_count": null,
      "outputs": []
    },
    {
      "cell_type": "code",
      "source": [
        "def L_layer_model(X, Y, layers_dims, learning_rate = 0.0075, num_iterations = 3000, print_cost=False):\n",
        "  '''\n",
        "  Implement Neural Netowrk\n",
        "  '''\n",
        "  np.random.seed(2)\n",
        "  costs = []\n",
        "\n",
        "  # one_hot Y\n",
        "  Y_one_hot = np.zeros((10, Y.shape[1]))\n",
        "  for i in range(Y.shape[1]):\n",
        "    Y_one_hot[Y[0,i],i] = 1\n",
        "  Y = Y_one_hot\n",
        "\n",
        "  parameters = initialize_parameters(layers_dims)\n",
        "\n",
        "  for i in range(0, num_iterations):\n",
        "    AL, caches = L_model_forward(X, parameters)\n",
        "    cost = compute_cost(AL, Y)\n",
        "    grads = L_model_backward(AL, Y, caches)\n",
        "    parameters = update_parameters_with_gd(parameters, grads, learning_rate)\n",
        "\n",
        "    if i % 100 == 0 or i == num_iterations - 1:\n",
        "      costs.append(cost)\n",
        "      if print_cost == True:\n",
        "        print(f\"The cost at {i} iteration: {np.squeeze(cost)}\")\n",
        "\n",
        "  return parameters, costs"
      ],
      "metadata": {
        "id": "XQ87h_FX2Vix"
      },
      "execution_count": null,
      "outputs": []
    },
    {
      "cell_type": "code",
      "source": [
        "def L_layer_model_with_mini_batches(X, Y, layers_dims, optimizer, learning_rate=0.0007, mini_batch_size=10000, beta1=0.9, beta2=0.999, epsilon=1e-8, num_iterations=3000, print_cost=True):\n",
        "  '''\n",
        "  3-layer neural network model which can be run in different optimizer modes.\n",
        "  \n",
        "  Input:\n",
        "    X: input data, of shape (2, number of examples)\n",
        "    Y: true \"label\" vector (1 for blue dot / 0 for red dot), of shape (1, number of examples)\n",
        "    layers_dims: python list, containing the size of each layer\n",
        "    learning_rate\n",
        "    mini_batch_size: the size of a mini batch\n",
        "    beta1: Exponential decay hyperparameter for the past gradients estimates \n",
        "    beta2: Exponential decay hyperparameter for the past squared gradients estimates \n",
        "    epsilon: hyperparameter preventing division by zero in Adam updates\n",
        "    num_epochs: number of epochs\n",
        "    print_cost: True to print the cost every 1000 epochs\n",
        "\n",
        "  Output:\n",
        "    parameters: a python dict containing your updated parameters \n",
        "  '''\n",
        "\n",
        "  np.random.seed(2)\n",
        "  costs = []\n",
        "  t = 0\n",
        "  seed = 2\n",
        "  Y_one_hot = np.zeros((10, Y.shape[1]))\n",
        "  for i in range(Y.shape[1]):\n",
        "    Y_one_hot[Y[0,i],i] = 1\n",
        "  Y = Y_one_hot\n",
        "\n",
        "  parameters = initialize_parameters(layers_dims)\n",
        "\n",
        "  if optimizer == \"gd\":\n",
        "      pass\n",
        "  elif optimizer == \"adam\":\n",
        "      v, s = initialize_adam(parameters)\n",
        "\n",
        "  for i in range(0, num_iterations):\n",
        "    \n",
        "    mini_batches = random_mini_batches(X, Y, mini_batch_size, seed)\n",
        "    average_cost = 0\n",
        "    len_batch = len(mini_batches)\n",
        "    \n",
        "    for mini_batch in mini_batches:\n",
        "      \n",
        "      mini_batch_X, mini_batch_Y = mini_batch\n",
        "      AL, caches = L_model_forward(mini_batch_X, parameters)\n",
        "      cost = compute_cost(AL, mini_batch_Y)\n",
        "      grads = L_model_backward(AL, mini_batch_Y, caches)\n",
        "      \n",
        "      if optimizer == \"gd\":\n",
        "        parameters = update_parameters_with_gd(parameters, grads, learning_rate)\n",
        "      elif optimizer == \"adam\":\n",
        "        t = t + 1 # Adam counter\n",
        "        parameters, v, s = update_parameters_with_adam(parameters, grads, v, s, t, learning_rate, beta1, beta2,  epsilon)\n",
        "      \n",
        "      average_cost += cost\n",
        "\n",
        "    # print cost value\n",
        "    if i % 100 == 0 or i == num_iterations - 1:\n",
        "      costs.append(average_cost/len_batch)\n",
        "      if print_cost == True:\n",
        "        print(f\"The cost at {i} iteration: {np.squeeze(average_cost/len_batch)}\")\n",
        "\n",
        "  return parameters, costs"
      ],
      "metadata": {
        "id": "09Scm9aCDLn2"
      },
      "execution_count": null,
      "outputs": []
    },
    {
      "cell_type": "code",
      "source": [
        "def predict(X, parameters):\n",
        "  '''\n",
        "    predict output\n",
        "  '''\n",
        "\n",
        "  AL, _ = L_model_forward(test_x, parameters)\n",
        "  return np.squeeze(np.argmax(AL, axis = 0))"
      ],
      "metadata": {
        "id": "WjkJmmbk2uyY"
      },
      "execution_count": null,
      "outputs": []
    },
    {
      "cell_type": "code",
      "source": [
        "'''\n",
        "  Save parameters and cost values for other purpose\n",
        "'''\n",
        "import pickle\n",
        "import json\n",
        "\n",
        "def save_parameter_and_costs(params, costs, path_param, path_cost):\n",
        "  '''\n",
        "    Save weight to the file.\n",
        "  '''\n",
        "\n",
        "  if os.path.exists(path_param):\n",
        "    os.remove(path_param) # Remove the old file before saving the new one\n",
        "  a_file = open(path_param, \"wb\")\n",
        "  pickle.dump(params, a_file)\n",
        "  a_file.close()\n",
        "  if os.path.exists(path_cost):\n",
        "    os.remove(path_cost) # Remove the old file before saving the new one\n",
        "  a_file = open(path_cost, \"wb\")\n",
        "  pickle.dump(costs, a_file)\n",
        "  a_file.close()\n",
        "\n",
        "def get_parameters(path):\n",
        "  '''\n",
        "    Get params from the file path\n",
        "  '''\n",
        "\n",
        "  if os.path.exists(path):\n",
        "    a_file = open(path, \"rb\")\n",
        "    params = pickle.load(a_file)\n",
        "    a_file.close()\n",
        "    return params\n",
        "  else:\n",
        "    print(f\"The path {path} doesn't exist!\")\n",
        "    return None\n"
      ],
      "metadata": {
        "id": "68lO_KRkh4iV"
      },
      "execution_count": null,
      "outputs": []
    },
    {
      "cell_type": "code",
      "source": [
        "path_parameters = \"/content/drive/MyDrive/AI projects/Hand_written/parameters.pkl\"\n",
        "path_cost = \"/content/drive/MyDrive/AI projects/Hand_written/cost.pkl\"\n",
        "path_parameters_adam = \"/content/drive/MyDrive/AI projects/Hand_written/parameters_adam.pkl\"\n",
        "path_cost_adam = \"/content/drive/MyDrive/AI projects/Hand_written/cost_adam.pkl\"\n",
        "learning_rate = 0.03\n",
        "layers_dims = [784, 512, 10]"
      ],
      "metadata": {
        "id": "QKlXEi6W59o6"
      },
      "execution_count": null,
      "outputs": []
    },
    {
      "cell_type": "code",
      "source": [
        "start_time = time.time() # Get the starting time\n",
        "\n",
        "# parameters, costs = L_layer_model(train_x, train_y, layers_dims, num_iterations = 2000, print_cost = True)\n",
        "\n",
        "parameters, costs = L_layer_model_with_mini_batches(train_x, train_y, layers_dims, 'adam', num_iterations = 700, print_cost = True)\n",
        "\n",
        "end_time = time.time() # Get the end time\n",
        "\n",
        "total_training_time = end_time - start_time # Calulate an total amount of implementation time\n",
        "\n",
        "print(f\"Total training time with batch gradient descent: {total_training_time}\")"
      ],
      "metadata": {
        "id": "a3I10Ly32xvM",
        "colab": {
          "base_uri": "https://localhost:8080/"
        },
        "outputId": "7f707b6e-d394-4e45-db30-abaee552e911"
      },
      "execution_count": null,
      "outputs": [
        {
          "output_type": "stream",
          "name": "stdout",
          "text": [
            "The cost at 0 iteration: 6.2060928933856445\n",
            "The cost at 100 iteration: 0.33237219126643874\n",
            "The cost at 200 iteration: 0.17963177618303602\n",
            "The cost at 300 iteration: 0.11261470161647431\n",
            "The cost at 400 iteration: 0.07257406402569923\n",
            "The cost at 500 iteration: 0.04630537013371346\n",
            "The cost at 600 iteration: 0.029074782964666274\n",
            "The cost at 699 iteration: 0.018281070016301682\n",
            "Total training time with batch gradient descent: 4031.313359260559\n"
          ]
        }
      ]
    },
    {
      "cell_type": "code",
      "source": [
        "save_parameter_and_costs(parameters, costs, path_parameters_adam, path_cost_adam)\n",
        "print(\"Save params and costs successfully!\")"
      ],
      "metadata": {
        "colab": {
          "base_uri": "https://localhost:8080/"
        },
        "id": "MhmJkewdn38r",
        "outputId": "8dc4acda-2934-4eb3-8a90-53f25cddc43a"
      },
      "execution_count": null,
      "outputs": [
        {
          "output_type": "stream",
          "name": "stdout",
          "text": [
            "Save params and costs successfully!\n"
          ]
        }
      ]
    },
    {
      "cell_type": "code",
      "source": [
        "# Draw cost\n",
        "\n",
        "y_hat = predict(test_x, parameters)\n",
        "y_hat = np.reshape(y_hat, 10000)\n",
        "test_y = np.reshape(test_y, 10000)\n",
        "# print(np.mean(y_hat, test_y))\n",
        "print(f\"The accuracy: {np.mean(y_hat == test_y)*100}%\")\n",
        "# plot the cost\n",
        "plt.plot(costs)\n",
        "plt.ylabel('cost')\n",
        "plt.xlabel('epochs (per 100)')\n",
        "plt.title(f\"Adam with validation acc: {np.mean(y_hat == test_y)*100}\")\n",
        "plt.show()"
      ],
      "metadata": {
        "id": "zjO8fuWS3ywe",
        "colab": {
          "base_uri": "https://localhost:8080/",
          "height": 313
        },
        "outputId": "4b3e3c0d-a263-42f0-d74d-da37a54bbafb"
      },
      "execution_count": null,
      "outputs": [
        {
          "output_type": "stream",
          "name": "stdout",
          "text": [
            "The accuracy: 98.08%\n"
          ]
        },
        {
          "output_type": "display_data",
          "data": {
            "text/plain": [
              "<Figure size 432x288 with 1 Axes>"
            ],
            "image/png": "[encoded data removed]"
          },
          "metadata": {
            "needs_background": "light"
          }
        }
      ]
    },
    {
      "cell_type": "code",
      "source": [
        "get_parameters(path_cost)"
      ],
      "metadata": {
        "id": "2eIgju3YuCbd"
      },
      "execution_count": null,
      "outputs": []
    },
    {
      "cell_type": "code",
      "source": [
        ""
      ],
      "metadata": {
        "id": "2v0jB9devQFw"
      },
      "execution_count": null,
      "outputs": []
    }
  ]
}